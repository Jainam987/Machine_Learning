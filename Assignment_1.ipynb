{
 "cells": [
  {
   "cell_type": "markdown",
   "metadata": {},
   "source": [
    "# Problem: 1"
   ]
  },
  {
   "cell_type": "markdown",
   "metadata": {},
   "source": [
    "Write a program which will find all such numbers which are divisible by 7 but are not a multiple of 5, between 2000 and 3200 (both included). The numbers obtained should be printed in a comma-separated sequence on a single line.\n"
   ]
  },
  {
   "cell_type": "code",
   "execution_count": 103,
   "metadata": {},
   "outputs": [
    {
     "name": "stdout",
     "output_type": "stream",
     "text": [
      "[2009, 2023, 2030, 2037, 2044, 2051, 2065, 2079, 2086, 2093, 2100, 2107, 2121, 2135, 2142, 2149, 2156, 2163, 2177, 2191, 2198, 2205, 2212, 2219, 2233, 2247, 2254, 2261, 2268, 2275, 2289, 2303, 2310, 2317, 2324, 2331, 2345, 2359, 2366, 2373, 2380, 2387, 2401, 2415, 2422, 2429, 2436, 2443, 2457, 2471, 2478, 2485, 2492, 2499, 2513, 2527, 2534, 2541, 2548, 2555, 2569, 2583, 2590, 2597, 2604, 2611, 2625, 2639, 2646, 2653, 2660, 2667, 2681, 2695, 2702, 2709, 2716, 2723, 2737, 2751, 2758, 2765, 2772, 2779, 2793, 2807, 2814, 2821, 2828, 2835, 2849, 2863, 2870, 2877, 2884, 2891, 2905, 2919, 2926, 2933, 2940, 2947, 2961, 2975, 2982, 2989, 2996, 3003, 3017, 3031, 3038, 3045, 3052, 3059, 3073, 3087, 3094, 3101, 3108, 3115, 3129, 3143, 3150, 3157, 3164, 3171, 3185, 3199]\n"
     ]
    }
   ],
   "source": [
    "list = []\n",
    "for i in range(2000,3200+1):\n",
    "    if(i%7 == 0 and i&5 != 0):\n",
    "        list.append(i)\n",
    "\n",
    "print(list)"
   ]
  },
  {
   "cell_type": "markdown",
   "metadata": {},
   "source": [
    "#  Problem: 2"
   ]
  },
  {
   "cell_type": "markdown",
   "metadata": {},
   "source": [
    "Write a Python program to accept the user's first and last name and then getting them printed in the reverse order with a space between first name and last name."
   ]
  },
  {
   "cell_type": "code",
   "execution_count": 108,
   "metadata": {},
   "outputs": [
    {
     "name": "stdout",
     "output_type": "stream",
     "text": [
      "Enter First Name: \n",
      "Enter Last Name: \n",
      " \n"
     ]
    }
   ],
   "source": [
    "first_name = input(\"Enter First Name: \")\n",
    "last_name = input(\"Enter Last Name: \")\n",
    "name = f\"{first_name[::-1]} {last_name[::-1]}\"\n",
    "print(name.upper())"
   ]
  },
  {
   "cell_type": "markdown",
   "metadata": {},
   "source": [
    "# Problem: 3"
   ]
  },
  {
   "cell_type": "markdown",
   "metadata": {},
   "source": [
    "Write a Python program to find the volume of a sphere with diameter 12 cm.\n",
    "Formula: V=4/3 * π * r^3\n"
   ]
  },
  {
   "cell_type": "code",
   "execution_count": 110,
   "metadata": {},
   "outputs": [
    {
     "name": "stdout",
     "output_type": "stream",
     "text": [
      "Enter Diameter: 12\n",
      "Volume of Sphere: 904.7786842338603 cm^3\n"
     ]
    }
   ],
   "source": [
    "import math\n",
    "diameter = float(input(\"Enter Diameter: \"))\n",
    "radius = diameter/2\n",
    "volume = (4 / 3)* math.pi *(radius**3)\n",
    "print(f\"Volume of Sphere: {volume} cm^3\")"
   ]
  },
  {
   "cell_type": "markdown",
   "metadata": {},
   "source": []
  },
  {
   "cell_type": "code",
   "execution_count": null,
   "metadata": {},
   "outputs": [],
   "source": []
  },
  {
   "cell_type": "code",
   "execution_count": null,
   "metadata": {},
   "outputs": [],
   "source": []
  }
 ],
 "metadata": {
  "kernelspec": {
   "display_name": "Python 3",
   "language": "python",
   "name": "python3"
  },
  "language_info": {
   "codemirror_mode": {
    "name": "ipython",
    "version": 3
   },
   "file_extension": ".py",
   "mimetype": "text/x-python",
   "name": "python",
   "nbconvert_exporter": "python",
   "pygments_lexer": "ipython3",
   "version": "3.7.6"
  }
 },
 "nbformat": 4,
 "nbformat_minor": 4
}
